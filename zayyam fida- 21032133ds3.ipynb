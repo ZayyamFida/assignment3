{
 "cells": [
  {
   "cell_type": "code",
   "execution_count": 3,
   "id": "31cc1a47",
   "metadata": {},
   "outputs": [],
   "source": [
    "# utility libraries\n",
    "import numpy as np\n",
    "import matplotlib.pyplot as plt\n",
    "import pandas as pd"
   ]
  },
  {
   "cell_type": "code",
   "execution_count": 12,
   "id": "57cbf3ed",
   "metadata": {},
   "outputs": [],
   "source": [
    "# dataset\n",
    "dataset = pd.read_csv('export goods.csv')\n",
    "\n",
    "'''choose for clustering because its very long dataset but we only choose two years for clustering'''\n",
    "df = dataset[[\"2019\",\"2020\"]]\n",
    "\n",
    "'''removing all null values it make errors in clustering '''\n",
    "\n",
    "Df = df.dropna()\n",
    "\n",
    "# make arrary\n",
    "X = Df.values"
   ]
  },
  {
   "cell_type": "code",
   "execution_count": 10,
   "id": "eb8b24b7",
   "metadata": {},
   "outputs": [
    {
     "data": {
      "text/html": [
       "<div>\n",
       "<style scoped>\n",
       "    .dataframe tbody tr th:only-of-type {\n",
       "        vertical-align: middle;\n",
       "    }\n",
       "\n",
       "    .dataframe tbody tr th {\n",
       "        vertical-align: top;\n",
       "    }\n",
       "\n",
       "    .dataframe thead th {\n",
       "        text-align: right;\n",
       "    }\n",
       "</style>\n",
       "<table border=\"1\" class=\"dataframe\">\n",
       "  <thead>\n",
       "    <tr style=\"text-align: right;\">\n",
       "      <th></th>\n",
       "      <th>2019</th>\n",
       "      <th>2020</th>\n",
       "    </tr>\n",
       "  </thead>\n",
       "  <tbody>\n",
       "    <tr>\n",
       "      <th>count</th>\n",
       "      <td>209.000000</td>\n",
       "      <td>209.000000</td>\n",
       "    </tr>\n",
       "    <tr>\n",
       "      <th>mean</th>\n",
       "      <td>39.663855</td>\n",
       "      <td>35.908145</td>\n",
       "    </tr>\n",
       "    <tr>\n",
       "      <th>std</th>\n",
       "      <td>28.713277</td>\n",
       "      <td>28.693743</td>\n",
       "    </tr>\n",
       "    <tr>\n",
       "      <th>min</th>\n",
       "      <td>0.630574</td>\n",
       "      <td>0.435765</td>\n",
       "    </tr>\n",
       "    <tr>\n",
       "      <th>25%</th>\n",
       "      <td>23.061582</td>\n",
       "      <td>20.015022</td>\n",
       "    </tr>\n",
       "    <tr>\n",
       "      <th>50%</th>\n",
       "      <td>31.592055</td>\n",
       "      <td>27.873644</td>\n",
       "    </tr>\n",
       "    <tr>\n",
       "      <th>75%</th>\n",
       "      <td>48.131642</td>\n",
       "      <td>43.416895</td>\n",
       "    </tr>\n",
       "    <tr>\n",
       "      <th>max</th>\n",
       "      <td>205.482078</td>\n",
       "      <td>204.690741</td>\n",
       "    </tr>\n",
       "  </tbody>\n",
       "</table>\n",
       "</div>"
      ],
      "text/plain": [
       "             2019        2020\n",
       "count  209.000000  209.000000\n",
       "mean    39.663855   35.908145\n",
       "std     28.713277   28.693743\n",
       "min      0.630574    0.435765\n",
       "25%     23.061582   20.015022\n",
       "50%     31.592055   27.873644\n",
       "75%     48.131642   43.416895\n",
       "max    205.482078  204.690741"
      ]
     },
     "execution_count": 10,
     "metadata": {},
     "output_type": "execute_result"
    }
   ],
   "source": [
    "'''desribe the choosen dataset'''\n",
    "Df.describe()"
   ]
  },
  {
   "cell_type": "code",
   "execution_count": 13,
   "id": "58b1bb43",
   "metadata": {
    "scrolled": true
   },
   "outputs": [
    {
     "data": {
      "text/html": [
       "<div>\n",
       "<style scoped>\n",
       "    .dataframe tbody tr th:only-of-type {\n",
       "        vertical-align: middle;\n",
       "    }\n",
       "\n",
       "    .dataframe tbody tr th {\n",
       "        vertical-align: top;\n",
       "    }\n",
       "\n",
       "    .dataframe thead th {\n",
       "        text-align: right;\n",
       "    }\n",
       "</style>\n",
       "<table border=\"1\" class=\"dataframe\">\n",
       "  <thead>\n",
       "    <tr style=\"text-align: right;\">\n",
       "      <th></th>\n",
       "      <th>2019</th>\n",
       "      <th>2020</th>\n",
       "    </tr>\n",
       "  </thead>\n",
       "  <tbody>\n",
       "    <tr>\n",
       "      <th>0</th>\n",
       "      <td>0.114749</td>\n",
       "      <td>0.108612</td>\n",
       "    </tr>\n",
       "    <tr>\n",
       "      <th>1</th>\n",
       "      <td>0.102394</td>\n",
       "      <td>0.080894</td>\n",
       "    </tr>\n",
       "    <tr>\n",
       "      <th>2</th>\n",
       "      <td>0.188982</td>\n",
       "      <td>0.182871</td>\n",
       "    </tr>\n",
       "    <tr>\n",
       "      <th>3</th>\n",
       "      <td>0.149752</td>\n",
       "      <td>0.111015</td>\n",
       "    </tr>\n",
       "    <tr>\n",
       "      <th>4</th>\n",
       "      <td>0.083306</td>\n",
       "      <td>0.079097</td>\n",
       "    </tr>\n",
       "  </tbody>\n",
       "</table>\n",
       "</div>"
      ],
      "text/plain": [
       "       2019      2020\n",
       "0  0.114749  0.108612\n",
       "1  0.102394  0.080894\n",
       "2  0.188982  0.182871\n",
       "3  0.149752  0.111015\n",
       "4  0.083306  0.079097"
      ]
     },
     "execution_count": 13,
     "metadata": {},
     "output_type": "execute_result"
    }
   ],
   "source": [
    "from sklearn import preprocessing\n",
    "\n",
    "'''data normalization using sklearn MinMax scaller that is in preprocessing'''\n",
    "\n",
    "scaler = preprocessing.MinMaxScaler()\n",
    "names = Df.columns\n",
    "d = scaler.fit_transform(Df)\n",
    "scaled_df = pd.DataFrame(d, columns=names)\n",
    "scaled_df.head()"
   ]
  },
  {
   "cell_type": "code",
   "execution_count": 16,
   "id": "31e5bb23",
   "metadata": {},
   "outputs": [
    {
     "data": {
      "text/plain": [
       "<matplotlib.legend.Legend at 0x272ada92220>"
      ]
     },
     "execution_count": 16,
     "metadata": {},
     "output_type": "execute_result"
    },
    {
     "data": {
      "image/png": "[encoded data removed]",
      "text/plain": [
       "<Figure size 432x288 with 1 Axes>"
      ]
     },
     "metadata": {
      "needs_background": "light"
     },
     "output_type": "display_data"
    }
   ],
   "source": [
    "'''fit the dataset using curve fit Import curve fitting package from scipy'''\n",
    "from scipy.optimize import curve_fit\n",
    "\n",
    "# x and y data for curve fit method\n",
    "\n",
    "xdata = Df[\"2019\"]\n",
    "ydata = Df[\"2020\"]\n",
    "\n",
    "'''temp is a guassian function that use in curve fit'''\n",
    "def temp(x, A, B):\n",
    "    y = A*np.exp(-1*B*x**2)\n",
    "    return y\n",
    "    \n",
    "'''call method guass from top and make curve fit that is builtin function of scipy'''\n",
    "parameters, cov = curve_fit(temp,xdata, ydata)\n",
    "\n",
    "#     split boht parameter\n",
    "fit_A = parameters[0]\n",
    "fit_B = parameters[1]\n",
    "\n",
    "#     fit y \n",
    "fit_y = temp(X, fit_A, fit_B)\n",
    "\n",
    "#     plotting\n",
    "plt.plot(xdata, ydata, 'o', label='data', color=\"black\")\n",
    "plt.plot(xdata, fit_y, '-', label='fit')\n",
    "plt.legend()"
   ]
  },
  {
   "cell_type": "code",
   "execution_count": 17,
   "id": "df106053",
   "metadata": {},
   "outputs": [
    {
     "name": "stderr",
     "output_type": "stream",
     "text": [
      "E:\\Files\\lib\\site-packages\\sklearn\\cluster\\_kmeans.py:881: UserWarning: KMeans is known to have a memory leak on Windows with MKL, when there are less chunks than available threads. You can avoid it by setting the environment variable OMP_NUM_THREADS=1.\n",
      "  warnings.warn(\n"
     ]
    }
   ],
   "source": [
    "# prediction for future values\n",
    "from sklearn.cluster import KMeans\n",
    "\n",
    "'''finding possible num of cluster in given dataset using elbow graph'''\n",
    "wcss = []\n",
    "for i in range(1,11):\n",
    "    kmeans = KMeans(n_clusters = i, init = \"k-means++\")\n",
    "    kmeans.fit(X)\n",
    "    wcss.append(kmeans.inertia_)"
   ]
  },
  {
   "cell_type": "code",
   "execution_count": 19,
   "id": "c489c887",
   "metadata": {},
   "outputs": [
    {
     "data": {
      "image/png": "[encoded data removed]",
      "text/plain": [
       "<Figure size 432x288 with 1 Axes>"
      ]
     },
     "metadata": {
      "needs_background": "light"
     },
     "output_type": "display_data"
    }
   ],
   "source": [
    "plt.plot(range(1,11),wcss)\n",
    "plt.show()"
   ]
  },
  {
   "cell_type": "code",
   "execution_count": 20,
   "id": "8da43d51",
   "metadata": {},
   "outputs": [
    {
     "data": {
      "text/plain": [
       "array([0, 0, 2, 0, 0, 2, 3, 3, 0, 3, 2, 0, 3, 0, 0, 3, 2, 2, 3, 2, 2, 0,\n",
       "       0, 3, 2, 2, 0, 2, 3, 3, 2, 0, 0, 0, 0, 3, 0, 0, 2, 2, 0, 3, 3, 3,\n",
       "       2, 1, 3, 0, 0, 0, 0, 0, 2, 2, 0, 0, 2, 2, 3, 0, 2, 0, 2, 2, 2, 0,\n",
       "       2, 2, 2, 2, 2, 0, 0, 2, 2, 0, 0, 2, 1, 2, 0, 2, 0, 3, 0, 0, 0, 0,\n",
       "       0, 0, 0, 1, 0, 2, 0, 2, 2, 2, 0, 2, 0, 2, 3, 2, 0, 0, 2, 0, 0, 0,\n",
       "       0, 0, 0, 2, 0, 3, 1, 3, 3, 2, 0, 0, 3, 2, 2, 0, 3, 0, 1, 2, 0, 2,\n",
       "       3, 2, 2, 3, 0, 2, 0, 0, 2, 3, 2, 0, 0, 0, 2, 3, 0, 2, 0, 0, 3, 0,\n",
       "       2, 2, 0, 2, 0, 2, 2, 0, 0, 0, 2, 0, 0, 1, 2, 0, 0, 0, 2, 0, 0, 3,\n",
       "       3, 3, 2, 2, 3, 2, 0, 2, 0, 3, 0, 0, 2, 0, 0, 0, 0, 2, 0, 0, 2, 0,\n",
       "       0, 0, 0, 3, 2, 0, 2, 0, 0, 2, 2])"
      ]
     },
     "execution_count": 20,
     "metadata": {},
     "output_type": "execute_result"
    }
   ],
   "source": [
    "\n",
    "'''as graph show possible number of clusters is 4 almost'''\n",
    "\n",
    "\n",
    "kmeans = KMeans(n_clusters = 4, init = \"k-means++\")\n",
    "\n",
    "# fit and predict\n",
    "y_kmeans = kmeans.fit_predict(X)\n",
    "\n",
    "y_kmeans\n",
    "\n"
   ]
  },
  {
   "cell_type": "code",
   "execution_count": 25,
   "id": "4a4d7565",
   "metadata": {},
   "outputs": [
    {
     "data": {
      "image/png": "[encoded data removed]",
      "text/plain": [
       "<Figure size 432x288 with 1 Axes>"
      ]
     },
     "metadata": {
      "needs_background": "light"
     },
     "output_type": "display_data"
    },
    {
     "data": {
      "image/png": "[encoded data removed]",
      "text/plain": [
       "<Figure size 432x288 with 1 Axes>"
      ]
     },
     "metadata": {
      "needs_background": "light"
     },
     "output_type": "display_data"
    },
    {
     "data": {
      "image/png": "[encoded data removed]",
      "text/plain": [
       "<Figure size 432x288 with 1 Axes>"
      ]
     },
     "metadata": {
      "needs_background": "light"
     },
     "output_type": "display_data"
    },
    {
     "data": {
      "image/png": "[encoded data removed]",
      "text/plain": [
       "<Figure size 432x288 with 1 Axes>"
      ]
     },
     "metadata": {
      "needs_background": "light"
     },
     "output_type": "display_data"
    }
   ],
   "source": [
    "# Interpretation of the results.\n",
    "'''according to prediction of k mean most of values are 0 then 2 then 3 and 1 is at last \n",
    "first cluster is of 0\n",
    "second cluster is of 2\n",
    "third cluster is of 3\n",
    "fourth cluster is of 1'''\n",
    "\n",
    "c = [\"pink\",\"orange\", \"black\",\"purple\"]\n",
    "for i in range(4):\n",
    "    string = f\"cluter no {i+1} that denote {i}\"\n",
    "    plt.title(string)\n",
    "    plt.scatter(X[y_kmeans==i,0], X[y_kmeans==i,1], color=c[i])\n",
    "    plt.show()"
   ]
  },
  {
   "cell_type": "code",
   "execution_count": 26,
   "id": "19764a98",
   "metadata": {},
   "outputs": [
    {
     "data": {
      "text/plain": [
       "<matplotlib.collections.PathCollection at 0x272ae9e5520>"
      ]
     },
     "execution_count": 26,
     "metadata": {},
     "output_type": "execute_result"
    },
    {
     "data": {
      "image/png": "[encoded data removed]",
      "text/plain": [
       "<Figure size 720x576 with 1 Axes>"
      ]
     },
     "metadata": {
      "needs_background": "light"
     },
     "output_type": "display_data"
    }
   ],
   "source": [
    "'''now we plotting all in single frame to make different clusters finally'''\n",
    "\n",
    "\n",
    "plt.figure(figsize = (10,8))\n",
    "plt.title(\"K Mean Clustering\")\n",
    "#cluster 1\n",
    "plt.scatter(X[y_kmeans==0,0], X[y_kmeans==0,1], c=\"pink\")\n",
    "\n",
    "#cluster 2\n",
    "plt.scatter(X[y_kmeans==1,0], X[y_kmeans==1,1], c=\"orange\")\n",
    "\n",
    "#cluster 3\n",
    "plt.scatter(X[y_kmeans==2,0], X[y_kmeans==2,1], c=\"black\")\n",
    "\n",
    "plt.scatter(X[y_kmeans==3,0], X[y_kmeans==3,1], c=\"purple\")\n",
    "\n",
    "\n"
   ]
  },
  {
   "cell_type": "code",
   "execution_count": null,
   "id": "48dc0bc2",
   "metadata": {},
   "outputs": [],
   "source": []
  }
 ],
 "metadata": {
  "kernelspec": {
   "display_name": "Python 3 (ipykernel)",
   "language": "python",
   "name": "python3"
  },
  "language_info": {
   "codemirror_mode": {
    "name": "ipython",
    "version": 3
   },
   "file_extension": ".py",
   "mimetype": "text/x-python",
   "name": "python",
   "nbconvert_exporter": "python",
   "pygments_lexer": "ipython3",
   "version": "3.9.7"
  }
 },
 "nbformat": 4,
 "nbformat_minor": 5
}
